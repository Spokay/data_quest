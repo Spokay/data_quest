{
 "cells": [
  {
   "cell_type": "markdown",
   "metadata": {},
   "source": [
    "# Mission 5 : Détection d’Anomalies"
   ]
  },
  {
   "cell_type": "code",
   "execution_count": 2,
   "metadata": {},
   "outputs": [
    {
     "name": "stdout",
     "output_type": "stream",
     "text": [
      "Les valeurs aberrantes pour le temps de jeu sont :              Date  ID_Joueur   Temps_Jeu  Victoires  Achats_Objets  \\\n",
      "300    2023-01-06       1129   30.000000          1              0   \n",
      "383    2023-01-20       1468  213.530434          1             50   \n",
      "450    2023-01-30       1892   31.372532          2             50   \n",
      "465    2023-01-28       1892   30.000000          1              0   \n",
      "601    2023-01-16       1049  203.766266          1             50   \n",
      "...           ...        ...         ...        ...            ...   \n",
      "13972  2023-01-03       1023   34.544187          0             50   \n",
      "14092  2023-01-21       1610   31.043684          1              0   \n",
      "14214  2023-01-01       1040   36.744346          1              0   \n",
      "14581  2023-01-20       1787   30.000000          1              0   \n",
      "14780  2023-01-12       1107  228.340502          4            200   \n",
      "\n",
      "       Satisfaction Région     Serveur   Latitude   Longitude  \n",
      "300            77.4     NA     Dégradé  34.522727   24.637545  \n",
      "383            55.5     EU  Hors-Ligne -36.998195  -75.115835  \n",
      "450            57.2     AS      Stable   4.715603 -177.183415  \n",
      "465            68.2     EU      Stable   8.754940  -50.877194  \n",
      "601            82.9     AS      Stable -42.970247 -133.297472  \n",
      "...             ...    ...         ...        ...         ...  \n",
      "13972          98.7     AF      Stable  13.099164 -107.955524  \n",
      "14092          64.1     AS      Stable  40.637981  175.638757  \n",
      "14214          80.8     OC     Dégradé  87.218491  -95.794736  \n",
      "14581          73.4     EU      Stable -24.142112  148.528749  \n",
      "14780          95.2     SA      Stable -12.449147  -91.537810  \n",
      "\n",
      "[112 rows x 10 columns]\n"
     ]
    },
    {
     "data": {
      "text/plain": [
       "Text(0.5, 1.0, 'Scores Z des Victoires')"
      ]
     },
     "execution_count": 2,
     "metadata": {},
     "output_type": "execute_result"
    },
    {
     "data": {
      "image/png": "[encoded data removed]",
      "text/plain": [
       "<Figure size 640x480 with 1 Axes>"
      ]
     },
     "metadata": {},
     "output_type": "display_data"
    }
   ],
   "source": [
    "import pandas as pd\n",
    "\n",
    "# Charger les données\n",
    "df = pd.read_csv('game_data_complete.csv', sep=',', keep_default_na=False, na_values=['', 'NULL'])\n",
    "\n",
    "# 1. Utilisez des méthodes statistiques pour identifier les valeurs aberrantes dans le temps de jeu et les victoires.\n",
    "\n",
    "# Temps de jeu - On utilise la méthode IQR pour identifier les valeurs aberrantes\n",
    "Q1 = df['Temps_Jeu'].quantile(0.25)\n",
    "Q3 = df['Temps_Jeu'].quantile(0.75)\n",
    "IQR = Q3 - Q1\n",
    "\n",
    "outliers_game_time = df[(df['Temps_Jeu'] < (Q1 - 1.5 * IQR)) | (df['Temps_Jeu'] > (Q3 + 1.5 * IQR))]\n",
    "print(\"Les valeurs aberrantes pour le temps de jeu sont :\", outliers_game_time)\n",
    "\n",
    "# Victoires - On utilise la méthode score Z pour identifier les valeurs aberrantes\n",
    "mean_victories = df['Victoires'].mean()\n",
    "std_victories = df['Victoires'].std()\n",
    "victories_zscore = (df['Victoires'] - mean_victories) / std_victories\n",
    "\n",
    "# Graphique des scores Z\n",
    "import seaborn as sns\n",
    "import matplotlib.pyplot as plt\n",
    "sns.boxplot(victories_zscore)\n",
    "plt.xlabel('Score Z')\n",
    "plt.title('Scores Z des Victoires')"
   ]
  },
  {
   "cell_type": "code",
   "execution_count": null,
   "metadata": {},
   "outputs": [
    {
     "data": {
      "text/plain": [
       "array([1129, 1468, 1892, 1049, 1954, 1823, 1396, 1266, 1999, 1991, 1590,\n",
       "       1734, 1105, 1646, 1888, 1941, 1450, 1260, 1617, 1916, 1483, 1019,\n",
       "       1651, 1022, 1891, 1117, 1101, 1441, 1350, 1730, 1840, 1099, 1804,\n",
       "       1290, 1549, 1680, 1001, 1624, 1482, 1062, 1768, 1304, 1382, 1433,\n",
       "       1301, 1950, 1042, 1895, 1871, 1616, 1576, 1118, 1047, 1354, 1059,\n",
       "       1300, 1808, 1613, 1075, 1850, 1783, 1499, 1231, 1698, 1530, 1222,\n",
       "       1948, 1014, 1054, 1379, 1899, 1601, 1405, 1159, 1626, 1887, 1196,\n",
       "       1480, 1214, 1896, 1431, 1052, 1829, 1374, 1915, 1178, 1466, 1421,\n",
       "       1176, 1370, 1422, 1560, 1241, 1711, 1919, 1399, 1023, 1610, 1040,\n",
       "       1787, 1107], dtype=int64)"
      ]
     },
     "metadata": {},
     "output_type": "display_data"
    }
   ],
   "source": [
    "# 2. Mettez en évidence les joueurs suspects.\n",
    "outliers_game_time['ID_Joueur'].unique()"
   ]
  }
 ],
 "metadata": {
  "kernelspec": {
   "display_name": "base",
   "language": "python",
   "name": "python3"
  },
  "language_info": {
   "codemirror_mode": {
    "name": "ipython",
    "version": 3
   },
   "file_extension": ".py",
   "mimetype": "text/x-python",
   "name": "python",
   "nbconvert_exporter": "python",
   "pygments_lexer": "ipython3",
   "version": "3.12.7"
  }
 },
 "nbformat": 4,
 "nbformat_minor": 2
}
