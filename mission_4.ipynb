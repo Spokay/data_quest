{
 "cells": [
  {
   "cell_type": "code",
   "id": "initial_id",
   "metadata": {
    "collapsed": true,
    "ExecuteTime": {
     "end_time": "2024-12-11T17:00:09.319361Z",
     "start_time": "2024-12-11T17:00:09.277343Z"
    }
   },
   "source": [
    "# 1. Entraînez un modèle de régression linéaire pour prédire Achats_Objets.\n",
    "from sklearn.model_selection import train_test_split\n",
    "from sklearn.linear_model import LinearRegression\n",
    "from sklearn.metrics import root_mean_squared_error, r2_score\n",
    "from sklearn.preprocessing import StandardScaler\n",
    "import pandas as pd\n",
    "\n",
    "df = pd.read_csv('game_data_complete.csv', sep=',')\n",
    "\n",
    "# Nettoyage des données\n",
    "df = df[['Temps_Jeu', 'Victoires', 'ID_Joueur', 'Achats_Objets']]\n",
    "\n",
    "df = df.groupby('ID_Joueur', as_index=True).sum().reset_index()\n",
    "\n",
    "df = df.drop(columns=['ID_Joueur'])\n",
    "\n",
    "df = df.drop_duplicates()\n",
    "\n",
    "df = df.dropna()\n",
    "\n",
    "# Données d'entraînement et de test\n",
    "x = df[['Temps_Jeu', 'Victoires']]\n",
    "print(x.shape)\n",
    "y = df['Achats_Objets']\n",
    "\n",
    "# Split des données\n",
    "x_train, x_test, y_train, y_test = train_test_split(x, y, test_size=0.1)\n",
    "# Standardisation des données\n",
    "scaler = StandardScaler()\n",
    "x_train_normalized = scaler.fit_transform(x_train)\n",
    "x_test_normalized = scaler.transform(x_test)\n",
    "# Modèle de régression linéaire\n",
    "regression_model = LinearRegression()\n",
    "# Entraînement du modèle\n",
    "regression_model.fit(x_train_normalized, y_train)\n",
    "# Prédiction\n",
    "y_pred = regression_model.predict(x_test_normalized)\n",
    "# Evaluation\n",
    "rmse = root_mean_squared_error(y_test, y_pred)\n",
    "r2 = r2_score(y_test, y_pred)\n",
    "print(f'RMSE: {rmse}')\n",
    "print(f'R2: {r2}')"
   ],
   "outputs": [
    {
     "name": "stdout",
     "output_type": "stream",
     "text": [
      "(500, 2)\n",
      "RMSE: 594.614401580171\n",
      "R2: 0.0025804300751102183\n"
     ]
    }
   ],
   "execution_count": 43
  }
 ],
 "metadata": {
  "kernelspec": {
   "display_name": "Python 3",
   "language": "python",
   "name": "python3"
  },
  "language_info": {
   "codemirror_mode": {
    "name": "ipython",
    "version": 2
   },
   "file_extension": ".py",
   "mimetype": "text/x-python",
   "name": "python",
   "nbconvert_exporter": "python",
   "pygments_lexer": "ipython2",
   "version": "2.7.6"
  }
 },
 "nbformat": 4,
 "nbformat_minor": 5
}
