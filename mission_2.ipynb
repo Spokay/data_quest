{
 "cells": [
  {
   "cell_type": "markdown",
   "metadata": {},
   "source": [
    "# Mission 2 : Analyse des Joueurs Actifs (Intermédiaire)"
   ]
  },
  {
   "cell_type": "code",
   "execution_count": null,
   "metadata": {},
   "outputs": [],
   "source": [
    "import pandas as pd\n",
    "\n",
    "# Charger les données\n",
    "df = pd.read_csv('game_data_complete.csv', sep=',', keep_default_na=False, na_values=['', 'NULL'])\n",
    "\n",
    "# 1. Calculer le temps total de jeu par joueur.\n",
    "total_playtime = df.groupby('ID_Joueur')['Temps_Jeu'].sum()"
   ]
  },
  {
   "cell_type": "code",
   "execution_count": 2,
   "metadata": {},
   "outputs": [
    {
     "data": {
      "text/plain": [
       "ID_Joueur\n",
       "1561    3995.501446\n",
       "1517    3976.710036\n",
       "1695    3974.456850\n",
       "1483    3943.158482\n",
       "1578    3907.477029\n",
       "Name: Temps_Jeu, dtype: float64"
      ]
     },
     "execution_count": 2,
     "metadata": {},
     "output_type": "execute_result"
    }
   ],
   "source": [
    "# 2. Afficher les 5 joueurs les plus actifs.\n",
    "total_playtime.sort_values(ascending=False).head()"
   ]
  },
  {
   "cell_type": "code",
   "execution_count": 3,
   "metadata": {},
   "outputs": [
    {
     "name": "stdout",
     "output_type": "stream",
     "text": [
      "ID_Joueur\n",
      "1001    78.428571\n",
      "1002    75.238462\n",
      "1003    79.313333\n",
      "1005    74.059259\n",
      "1006    76.323333\n",
      "          ...    \n",
      "1991    75.000000\n",
      "1993    78.365517\n",
      "1995    80.510000\n",
      "1998    68.603704\n",
      "1999    76.025000\n",
      "Name: Satisfaction, Length: 500, dtype: float64\n",
      "Satisfaction\n",
      "False    479\n",
      "True      21\n",
      "Name: count, dtype: int64\n"
     ]
    }
   ],
   "source": [
    "# 3. Identifier les joueurs ayant une satisfaction inférieure à 60.\n",
    "\n",
    "# On convertit la colonne 'Satisfaction' en float\n",
    "# df['Satisfaction'] = df['Satisfaction'].astype(float)\n",
    "\n",
    "\n",
    "# On calcule la satisfaction moyenne par joueur\n",
    "mean_satisfaction = df.groupby('ID_Joueur')['Satisfaction'].mean()\n",
    "print(mean_satisfaction)\n",
    "\n",
    "# On filtre les joueurs ayant une satisfaction inférieure à 60, ajusté à 70\n",
    "low_satisfaction = df.groupby('ID_Joueur')['Satisfaction'].mean() < 70\n",
    "print(low_satisfaction.value_counts())"
   ]
  },
  {
   "cell_type": "code",
   "execution_count": 4,
   "metadata": {},
   "outputs": [
    {
     "data": {
      "text/plain": [
       "ID_Joueur\n",
       "1561    3995.501446\n",
       "1517    3976.710036\n",
       "1695    3974.456850\n",
       "1483    3943.158482\n",
       "1578    3907.477029\n",
       "1021    3895.246646\n",
       "1973    3857.942878\n",
       "1198    3848.154254\n",
       "1888    3842.932926\n",
       "1553    3838.672360\n",
       "Name: Temps_Jeu, dtype: float64"
      ]
     },
     "execution_count": 4,
     "metadata": {},
     "output_type": "execute_result"
    }
   ],
   "source": [
    "# TOP 10 des joueurs les plus actifs\n",
    "top_10_players = total_playtime.sort_values(ascending=False).head(10)\n",
    "top_10_players"
   ]
  },
  {
   "cell_type": "code",
   "execution_count": 5,
   "metadata": {},
   "outputs": [
    {
     "data": {
      "text/plain": [
       "VIP\n",
       "False    14850\n",
       "True       150\n",
       "Name: count, dtype: int64"
      ]
     },
     "execution_count": 5,
     "metadata": {},
     "output_type": "execute_result"
    }
   ],
   "source": [
    "# 1. \"VIP\" pour les joueurs très actifs (> 4000 minutes de jeu). Ajusté à 3900 pour avoir des VIP.\n",
    "df['VIP'] = df['ID_Joueur'].isin(total_playtime[total_playtime > 3900].index)\n",
    "df['VIP'].value_counts()"
   ]
  },
  {
   "cell_type": "code",
   "execution_count": 6,
   "metadata": {},
   "outputs": [
    {
     "data": {
      "text/plain": [
       "Risque\n",
       "False    14370\n",
       "True       630\n",
       "Name: count, dtype: int64"
      ]
     },
     "execution_count": 6,
     "metadata": {},
     "output_type": "execute_result"
    }
   ],
   "source": [
    "# 2. \"Risque\" pour les joueurs insatisfaits (< 60 de satisfaction).\n",
    "df['Risque'] = df['ID_Joueur'].isin(low_satisfaction[low_satisfaction == True].index)\n",
    "df['Risque'].value_counts()"
   ]
  }
 ],
 "metadata": {
  "kernelspec": {
   "display_name": "base",
   "language": "python",
   "name": "python3"
  },
  "language_info": {
   "codemirror_mode": {
    "name": "ipython",
    "version": 3
   },
   "file_extension": ".py",
   "mimetype": "text/x-python",
   "name": "python",
   "nbconvert_exporter": "python",
   "pygments_lexer": "ipython3",
   "version": "3.12.7"
  }
 },
 "nbformat": 4,
 "nbformat_minor": 2
}
